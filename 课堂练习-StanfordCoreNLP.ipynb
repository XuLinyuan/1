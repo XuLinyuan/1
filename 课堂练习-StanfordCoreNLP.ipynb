{
 "cells": [
  {
   "cell_type": "code",
   "execution_count": 3,
   "metadata": {},
   "outputs": [],
   "source": [
    "#coding: utf-8\n",
    "\n",
    "# 引入库\n",
    "\n",
    "from stanfordcorenlp import StanfordCoreNLP\n",
    "\n",
    "# 用与英文处理的客户实例\n",
    "\n",
    "nlp_en = StanfordCoreNLP('http://192.168.101.9', port=2002)   # 请个修改为自己的ip地址和端口号\n",
    "\n",
    "# 用与中文处理的客户实例\n",
    "\n",
    "nlp_cn = StanfordCoreNLP('http://192.168.101.9', port=2003)   # 请个修改为自己的ip地址和端口号\n",
    "\n",
    "en_txt = \"There are more public options, too. For example, in 2013, Chinese state media accused Jaguar Land Rover and Audi of overcharging buyers for car parts, which analysts viewed as part of a campaign to pressure those automakers to locate more manufacturing in China.\"\n",
    "\n",
    "cn_txt = \"还有更多的公开选择。比如，2013年，中国官方媒体指责捷豹路虎(Jaguar Land Rover)和奥迪(Audi)对汽车零部件的买家要价过高。分析师认为，那是在向这些汽车制造商施压，让它们把更多的制造工作搬到中国去。\""
   ]
  },
  {
   "cell_type": "code",
   "execution_count": 4,
   "metadata": {},
   "outputs": [
    {
     "data": {
      "text/plain": [
       "['还有',\n",
       " '更',\n",
       " '多',\n",
       " '的',\n",
       " '公开',\n",
       " '选择',\n",
       " '。',\n",
       " '比如',\n",
       " '，',\n",
       " '2013年',\n",
       " '，',\n",
       " '中国',\n",
       " '官方',\n",
       " '媒体',\n",
       " '指责',\n",
       " '捷豹',\n",
       " '路虎',\n",
       " '(',\n",
       " 'Jaguar',\n",
       " 'Land',\n",
       " 'Rover',\n",
       " ')',\n",
       " '和',\n",
       " '奥迪',\n",
       " '(',\n",
       " 'Audi',\n",
       " ')',\n",
       " '对',\n",
       " '汽车',\n",
       " '零部件',\n",
       " '的',\n",
       " '买家',\n",
       " '要价',\n",
       " '过高',\n",
       " '。',\n",
       " '分析师',\n",
       " '认为',\n",
       " '，',\n",
       " '那',\n",
       " '是',\n",
       " '在',\n",
       " '向',\n",
       " '这些',\n",
       " '汽车',\n",
       " '制造商',\n",
       " '施压',\n",
       " '，',\n",
       " '让',\n",
       " '它们',\n",
       " '把',\n",
       " '更',\n",
       " '多',\n",
       " '的',\n",
       " '制造',\n",
       " '工作',\n",
       " '搬到',\n",
       " '中国',\n",
       " '去',\n",
       " '。']"
      ]
     },
     "execution_count": 4,
     "metadata": {},
     "output_type": "execute_result"
    }
   ],
   "source": [
    "# 分词\n",
    "\n",
    "nlp_en.word_tokenize(en_txt)\n",
    "\n",
    "nlp_cn.word_tokenize(cn_txt)"
   ]
  },
  {
   "cell_type": "code",
   "execution_count": 5,
   "metadata": {},
   "outputs": [
    {
     "data": {
      "text/plain": [
       "[('还有', 'AD'),\n",
       " ('更', 'AD'),\n",
       " ('多', 'VA'),\n",
       " ('的', 'DEC'),\n",
       " ('公开', 'JJ'),\n",
       " ('选择', 'NN'),\n",
       " ('。', 'PU'),\n",
       " ('比如', 'AD'),\n",
       " ('，', 'PU'),\n",
       " ('2013年', 'NT'),\n",
       " ('，', 'PU'),\n",
       " ('中国', 'NR'),\n",
       " ('官方', 'NN'),\n",
       " ('媒体', 'NN'),\n",
       " ('指责', 'VV'),\n",
       " ('捷豹', 'NN'),\n",
       " ('路虎', 'NN'),\n",
       " ('(', 'PU'),\n",
       " ('Jaguar', 'NR'),\n",
       " ('Land', 'JJ'),\n",
       " ('Rover', 'NN'),\n",
       " (')', 'PU'),\n",
       " ('和', 'CC'),\n",
       " ('奥迪', 'NR'),\n",
       " ('(', 'PU'),\n",
       " ('Audi', 'NR'),\n",
       " (')', 'PU'),\n",
       " ('对', 'P'),\n",
       " ('汽车', 'NN'),\n",
       " ('零部件', 'NN'),\n",
       " ('的', 'DEG'),\n",
       " ('买家', 'NN'),\n",
       " ('要价', 'NN'),\n",
       " ('过高', 'VA'),\n",
       " ('。', 'PU'),\n",
       " ('分析师', 'NN'),\n",
       " ('认为', 'VV'),\n",
       " ('，', 'PU'),\n",
       " ('那', 'PN'),\n",
       " ('是', 'VC'),\n",
       " ('在', 'P'),\n",
       " ('向', 'P'),\n",
       " ('这些', 'DT'),\n",
       " ('汽车', 'NN'),\n",
       " ('制造商', 'NN'),\n",
       " ('施压', 'VV'),\n",
       " ('，', 'PU'),\n",
       " ('让', 'VV'),\n",
       " ('它们', 'PN'),\n",
       " ('把', 'BA'),\n",
       " ('更', 'AD'),\n",
       " ('多', 'CD'),\n",
       " ('的', 'DEG'),\n",
       " ('制造', 'NN'),\n",
       " ('工作', 'NN'),\n",
       " ('搬到', 'VV'),\n",
       " ('中国', 'NR'),\n",
       " ('去', 'VV'),\n",
       " ('。', 'PU')]"
      ]
     },
     "execution_count": 5,
     "metadata": {},
     "output_type": "execute_result"
    }
   ],
   "source": [
    "# 词性标注\n",
    "\n",
    "nlp_en.pos_tag(en_txt)\n",
    "\n",
    "nlp_cn.pos_tag(cn_txt)"
   ]
  },
  {
   "cell_type": "code",
   "execution_count": null,
   "metadata": {},
   "outputs": [],
   "source": [
    "# 全名实体识别\n",
    "\n",
    "nlp_en.ner(en_txt)\n",
    "\n",
    "nlp_cn.ner(cn_txt)"
   ]
  },
  {
   "cell_type": "code",
   "execution_count": null,
   "metadata": {},
   "outputs": [],
   "source": [
    "# 短语句法分析\n",
    "\n",
    "nlp_en.parse(en_txt)\n",
    "\n",
    "nlp_cn.parse(cn_txt)"
   ]
  },
  {
   "cell_type": "code",
   "execution_count": null,
   "metadata": {},
   "outputs": [],
   "source": [
    "# 依存句法分析 \n",
    "\n",
    "nlp_en.dependency_parse(en_txt)\n",
    "\n",
    "nlp_cn.dependency_parse(cn_txt)“"
   ]
  },
  {
   "cell_type": "code",
   "execution_count": null,
   "metadata": {},
   "outputs": [],
   "source": []
  },
  {
   "cell_type": "code",
   "execution_count": 1,
   "metadata": {},
   "outputs": [],
   "source": [
    "from nltk.util import ngrams"
   ]
  },
  {
   "cell_type": "code",
   "execution_count": 6,
   "metadata": {},
   "outputs": [],
   "source": [
    "a= \"I am not happy anymore\".split()"
   ]
  },
  {
   "cell_type": "raw",
   "metadata": {},
   "source": [
    "a"
   ]
  },
  {
   "cell_type": "code",
   "execution_count": 7,
   "metadata": {},
   "outputs": [],
   "source": [
    "b=ngrams(a,2)"
   ]
  },
  {
   "cell_type": "code",
   "execution_count": 8,
   "metadata": {},
   "outputs": [
    {
     "name": "stdout",
     "output_type": "stream",
     "text": [
      "('I', 'am')\n",
      "('am', 'not')\n",
      "('not', 'happy')\n",
      "('happy', 'anymore')\n"
     ]
    }
   ],
   "source": [
    "for i in b: print(i)"
   ]
  },
  {
   "cell_type": "code",
   "execution_count": null,
   "metadata": {},
   "outputs": [],
   "source": []
  }
 ],
 "metadata": {
  "kernelspec": {
   "display_name": "Python 3",
   "language": "python",
   "name": "python3"
  },
  "language_info": {
   "codemirror_mode": {
    "name": "ipython",
    "version": 3
   },
   "file_extension": ".py",
   "mimetype": "text/x-python",
   "name": "python",
   "nbconvert_exporter": "python",
   "pygments_lexer": "ipython3",
   "version": "3.6.4"
  }
 },
 "nbformat": 4,
 "nbformat_minor": 2
}
