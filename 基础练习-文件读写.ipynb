{
 "cells": [
  {
   "cell_type": "code",
   "execution_count": 1,
   "metadata": {},
   "outputs": [
    {
     "name": "stdout",
     "output_type": "stream",
     "text": [
      "Writing test.txt\n"
     ]
    }
   ],
   "source": [
    "%%writefile test.txt\n",
    "this is a test file.\n",
    "hello world!\n",
    "python is good!\n",
    "today is a good day."
   ]
  },
  {
   "cell_type": "code",
   "execution_count": 2,
   "metadata": {},
   "outputs": [],
   "source": [
    "f = open('test.txt')"
   ]
  },
  {
   "cell_type": "code",
   "execution_count": 7,
   "metadata": {},
   "outputs": [
    {
     "name": "stdout",
     "output_type": "stream",
     "text": [
      "this is a test file.\n",
      "hello world!\n",
      "python is good!\n",
      "today is a good day.\n"
     ]
    }
   ],
   "source": [
    "text = f.read()\n",
    "print (text)"
   ]
  },
  {
   "cell_type": "code",
   "execution_count": 8,
   "metadata": {},
   "outputs": [
    {
     "name": "stdout",
     "output_type": "stream",
     "text": [
      "['this is a test file.\\n', 'hello world!\\n', 'python is good!\\n', 'today is a good day.']\n"
     ]
    }
   ],
   "source": [
    "f = open('test.txt')\n",
    "lines = f.readlines()\n",
    "print (lines)"
   ]
  },
  {
   "cell_type": "code",
   "execution_count": 9,
   "metadata": {},
   "outputs": [],
   "source": [
    "f.close()"
   ]
  },
  {
   "cell_type": "code",
   "execution_count": 12,
   "metadata": {},
   "outputs": [
    {
     "name": "stdout",
     "output_type": "stream",
     "text": [
      "this is a test file.\n",
      "\n",
      "hello world!\n",
      "\n",
      "python is good!\n",
      "\n",
      "today is a good day.\n"
     ]
    }
   ],
   "source": [
    "f  =  open('test.txt')\n",
    "for line in f:\n",
    "    print (line)\n",
    "f.close()"
   ]
  },
  {
   "cell_type": "code",
   "execution_count": 13,
   "metadata": {},
   "outputs": [],
   "source": [
    "import os\n",
    "os.remove('test.txt')"
   ]
  },
  {
   "cell_type": "code",
   "execution_count": 15,
   "metadata": {},
   "outputs": [],
   "source": [
    "f  = open('myfile.txt', 'w')\n",
    "f.write('hello world!')\n",
    "f.close()"
   ]
  },
  {
   "cell_type": "code",
   "execution_count": 16,
   "metadata": {},
   "outputs": [
    {
     "name": "stdout",
     "output_type": "stream",
     "text": [
      "hello world!\n"
     ]
    }
   ],
   "source": [
    "print (open('myfile.txt').read())"
   ]
  },
  {
   "cell_type": "code",
   "execution_count": 17,
   "metadata": {},
   "outputs": [
    {
     "name": "stdout",
     "output_type": "stream",
     "text": [
      "another hello world!\n"
     ]
    }
   ],
   "source": [
    "f = open('myfile.txt', 'w')\n",
    "f.write('another hello world!')\n",
    "f.close()\n",
    "print (open('myfile.txt').read())"
   ]
  },
  {
   "cell_type": "code",
   "execution_count": 18,
   "metadata": {},
   "outputs": [
    {
     "name": "stdout",
     "output_type": "stream",
     "text": [
      "another hello world!... and more\n"
     ]
    }
   ],
   "source": [
    "f = open('myfile.txt', 'a')\n",
    "f.write('... and more')\n",
    "f.close()\n",
    "print (open('myfile.txt').read())"
   ]
  },
  {
   "cell_type": "code",
   "execution_count": 19,
   "metadata": {},
   "outputs": [
    {
     "name": "stdout",
     "output_type": "stream",
     "text": [
      "world!\n"
     ]
    }
   ],
   "source": [
    "f = open('myfile.txt', 'w+')\n",
    "f.write('hello world!')\n",
    "f.seek(6)\n",
    "print (f.read())\n",
    "f.close()"
   ]
  },
  {
   "cell_type": "code",
   "execution_count": 20,
   "metadata": {},
   "outputs": [],
   "source": [
    "import os\n",
    "os.remove('myfile.txt')"
   ]
  },
  {
   "cell_type": "code",
   "execution_count": 23,
   "metadata": {},
   "outputs": [
    {
     "name": "stdout",
     "output_type": "stream",
     "text": [
      "b')3\\x04\\xe4\\xd8\\xff\\xc4\\x1a9\\x9f\\x0c*\\xfd\\x1dT\\xcd'\n"
     ]
    }
   ],
   "source": [
    "import os\n",
    "f = open('binary.bin', 'wb')\n",
    "f.write(os.urandom(16))\n",
    "f.close()\n",
    "\n",
    "f = open('binary.bin', 'rb')\n",
    "print (repr(f.read()))\n",
    "f.close()"
   ]
  },
  {
   "cell_type": "code",
   "execution_count": 24,
   "metadata": {},
   "outputs": [],
   "source": [
    "import os\n",
    "os.remove('binary.bin')"
   ]
  },
  {
   "cell_type": "code",
   "execution_count": 25,
   "metadata": {},
   "outputs": [
    {
     "name": "stdout",
     "output_type": "stream",
     "text": [
      "''\n"
     ]
    }
   ],
   "source": [
    "f = open('newfile.txt','w')\n",
    "f.write('hello world')\n",
    "g = open('newfile.txt', 'r')\n",
    "print (repr(g.read()))"
   ]
  },
  {
   "cell_type": "code",
   "execution_count": 27,
   "metadata": {},
   "outputs": [
    {
     "name": "stdout",
     "output_type": "stream",
     "text": [
      "\n"
     ]
    }
   ],
   "source": [
    "f = open('newfile.txt','w')\n",
    "for i in range(20):\n",
    "    f.write('hello world: ' + str(i) + '\\n')\n",
    "\n",
    "g = open('newfile.txt', 'r')\n",
    "print (g.read())\n",
    "f.close()\n",
    "g.close()"
   ]
  },
  {
   "cell_type": "code",
   "execution_count": 32,
   "metadata": {},
   "outputs": [],
   "source": [
    "f = open('newfile.txt','w')\n",
    "try:\n",
    "    for i in range(150):\n",
    "        x = 1.0 / (i - 1000)\n",
    "        f.write('hello world: ' + str(i) + '\\n')\n",
    "except Exception:\n",
    "    print (\"something bad happened\")\n",
    "finally:\n",
    "    f.close()"
   ]
  },
  {
   "cell_type": "code",
   "execution_count": 33,
   "metadata": {},
   "outputs": [
    {
     "name": "stdout",
     "output_type": "stream",
     "text": [
      "hello world: 0\n",
      "hello world: 1\n",
      "hello world: 2\n",
      "hello world: 3\n",
      "hello world: 4\n",
      "hello world: 5\n",
      "hello world: 6\n",
      "hello world: 7\n",
      "hello world: 8\n",
      "hello world: 9\n",
      "hello world: 10\n",
      "hello world: 11\n",
      "hello world: 12\n",
      "hello world: 13\n",
      "hello world: 14\n",
      "hello world: 15\n",
      "hello world: 16\n",
      "hello world: 17\n",
      "hello world: 18\n",
      "hello world: 19\n",
      "hello world: 20\n",
      "hello world: 21\n",
      "hello world: 22\n",
      "hello world: 23\n",
      "hello world: 24\n",
      "hello world: 25\n",
      "hello world: 26\n",
      "hello world: 27\n",
      "hello world: 28\n",
      "hello world: 29\n",
      "hello world: 30\n",
      "hello world: 31\n",
      "hello world: 32\n",
      "hello world: 33\n",
      "hello world: 34\n",
      "hello world: 35\n",
      "hello world: 36\n",
      "hello world: 37\n",
      "hello world: 38\n",
      "hello world: 39\n",
      "hello world: 40\n",
      "hello world: 41\n",
      "hello world: 42\n",
      "hello world: 43\n",
      "hello world: 44\n",
      "hello world: 45\n",
      "hello world: 46\n",
      "hello world: 47\n",
      "hello world: 48\n",
      "hello world: 49\n",
      "hello world: 50\n",
      "hello world: 51\n",
      "hello world: 52\n",
      "hello world: 53\n",
      "hello world: 54\n",
      "hello world: 55\n",
      "hello world: 56\n",
      "hello world: 57\n",
      "hello world: 58\n",
      "hello world: 59\n",
      "hello world: 60\n",
      "hello world: 61\n",
      "hello world: 62\n",
      "hello world: 63\n",
      "hello world: 64\n",
      "hello world: 65\n",
      "hello world: 66\n",
      "hello world: 67\n",
      "hello world: 68\n",
      "hello world: 69\n",
      "hello world: 70\n",
      "hello world: 71\n",
      "hello world: 72\n",
      "hello world: 73\n",
      "hello world: 74\n",
      "hello world: 75\n",
      "hello world: 76\n",
      "hello world: 77\n",
      "hello world: 78\n",
      "hello world: 79\n",
      "hello world: 80\n",
      "hello world: 81\n",
      "hello world: 82\n",
      "hello world: 83\n",
      "hello world: 84\n",
      "hello world: 85\n",
      "hello world: 86\n",
      "hello world: 87\n",
      "hello world: 88\n",
      "hello world: 89\n",
      "hello world: 90\n",
      "hello world: 91\n",
      "hello world: 92\n",
      "hello world: 93\n",
      "hello world: 94\n",
      "hello world: 95\n",
      "hello world: 96\n",
      "hello world: 97\n",
      "hello world: 98\n",
      "hello world: 99\n",
      "hello world: 100\n",
      "hello world: 101\n",
      "hello world: 102\n",
      "hello world: 103\n",
      "hello world: 104\n",
      "hello world: 105\n",
      "hello world: 106\n",
      "hello world: 107\n",
      "hello world: 108\n",
      "hello world: 109\n",
      "hello world: 110\n",
      "hello world: 111\n",
      "hello world: 112\n",
      "hello world: 113\n",
      "hello world: 114\n",
      "hello world: 115\n",
      "hello world: 116\n",
      "hello world: 117\n",
      "hello world: 118\n",
      "hello world: 119\n",
      "hello world: 120\n",
      "hello world: 121\n",
      "hello world: 122\n",
      "hello world: 123\n",
      "hello world: 124\n",
      "hello world: 125\n",
      "hello world: 126\n",
      "hello world: 127\n",
      "hello world: 128\n",
      "hello world: 129\n",
      "hello world: 130\n",
      "hello world: 131\n",
      "hello world: 132\n",
      "hello world: 133\n",
      "hello world: 134\n",
      "hello world: 135\n",
      "hello world: 136\n",
      "hello world: 137\n",
      "hello world: 138\n",
      "hello world: 139\n",
      "hello world: 140\n",
      "hello world: 141\n",
      "hello world: 142\n",
      "hello world: 143\n",
      "hello world: 144\n",
      "hello world: 145\n",
      "hello world: 146\n",
      "hello world: 147\n",
      "hello world: 148\n",
      "hello world: 149\n",
      "\n"
     ]
    }
   ],
   "source": [
    "g = open('newfile.txt', 'r')\n",
    "print (g.read())\n",
    "g.close()"
   ]
  },
  {
   "cell_type": "code",
   "execution_count": 34,
   "metadata": {},
   "outputs": [],
   "source": [
    "with open('newfile.txt','w') as f:\n",
    "    for i in range(150):\n",
    "        x = 1.0 / (i - 1000)\n",
    "        f.write('hello world: ' + str(i) + '\\n')\n"
   ]
  },
  {
   "cell_type": "code",
   "execution_count": 35,
   "metadata": {},
   "outputs": [
    {
     "name": "stdout",
     "output_type": "stream",
     "text": [
      "hello world: 0\n",
      "hello world: 1\n",
      "hello world: 2\n",
      "hello world: 3\n",
      "hello world: 4\n",
      "hello world: 5\n",
      "hello world: 6\n",
      "hello world: 7\n",
      "hello world: 8\n",
      "hello world: 9\n",
      "hello world: 10\n",
      "hello world: 11\n",
      "hello world: 12\n",
      "hello world: 13\n",
      "hello world: 14\n",
      "hello world: 15\n",
      "hello world: 16\n",
      "hello world: 17\n",
      "hello world: 18\n",
      "hello world: 19\n",
      "hello world: 20\n",
      "hello world: 21\n",
      "hello world: 22\n",
      "hello world: 23\n",
      "hello world: 24\n",
      "hello world: 25\n",
      "hello world: 26\n",
      "hello world: 27\n",
      "hello world: 28\n",
      "hello world: 29\n",
      "hello world: 30\n",
      "hello world: 31\n",
      "hello world: 32\n",
      "hello world: 33\n",
      "hello world: 34\n",
      "hello world: 35\n",
      "hello world: 36\n",
      "hello world: 37\n",
      "hello world: 38\n",
      "hello world: 39\n",
      "hello world: 40\n",
      "hello world: 41\n",
      "hello world: 42\n",
      "hello world: 43\n",
      "hello world: 44\n",
      "hello world: 45\n",
      "hello world: 46\n",
      "hello world: 47\n",
      "hello world: 48\n",
      "hello world: 49\n",
      "hello world: 50\n",
      "hello world: 51\n",
      "hello world: 52\n",
      "hello world: 53\n",
      "hello world: 54\n",
      "hello world: 55\n",
      "hello world: 56\n",
      "hello world: 57\n",
      "hello world: 58\n",
      "hello world: 59\n",
      "hello world: 60\n",
      "hello world: 61\n",
      "hello world: 62\n",
      "hello world: 63\n",
      "hello world: 64\n",
      "hello world: 65\n",
      "hello world: 66\n",
      "hello world: 67\n",
      "hello world: 68\n",
      "hello world: 69\n",
      "hello world: 70\n",
      "hello world: 71\n",
      "hello world: 72\n",
      "hello world: 73\n",
      "hello world: 74\n",
      "hello world: 75\n",
      "hello world: 76\n",
      "hello world: 77\n",
      "hello world: 78\n",
      "hello world: 79\n",
      "hello world: 80\n",
      "hello world: 81\n",
      "hello world: 82\n",
      "hello world: 83\n",
      "hello world: 84\n",
      "hello world: 85\n",
      "hello world: 86\n",
      "hello world: 87\n",
      "hello world: 88\n",
      "hello world: 89\n",
      "hello world: 90\n",
      "hello world: 91\n",
      "hello world: 92\n",
      "hello world: 93\n",
      "hello world: 94\n",
      "hello world: 95\n",
      "hello world: 96\n",
      "hello world: 97\n",
      "hello world: 98\n",
      "hello world: 99\n",
      "hello world: 100\n",
      "hello world: 101\n",
      "hello world: 102\n",
      "hello world: 103\n",
      "hello world: 104\n",
      "hello world: 105\n",
      "hello world: 106\n",
      "hello world: 107\n",
      "hello world: 108\n",
      "hello world: 109\n",
      "hello world: 110\n",
      "hello world: 111\n",
      "hello world: 112\n",
      "hello world: 113\n",
      "hello world: 114\n",
      "hello world: 115\n",
      "hello world: 116\n",
      "hello world: 117\n",
      "hello world: 118\n",
      "hello world: 119\n",
      "hello world: 120\n",
      "hello world: 121\n",
      "hello world: 122\n",
      "hello world: 123\n",
      "hello world: 124\n",
      "hello world: 125\n",
      "hello world: 126\n",
      "hello world: 127\n",
      "hello world: 128\n",
      "hello world: 129\n",
      "hello world: 130\n",
      "hello world: 131\n",
      "hello world: 132\n",
      "hello world: 133\n",
      "hello world: 134\n",
      "hello world: 135\n",
      "hello world: 136\n",
      "hello world: 137\n",
      "hello world: 138\n",
      "hello world: 139\n",
      "hello world: 140\n",
      "hello world: 141\n",
      "hello world: 142\n",
      "hello world: 143\n",
      "hello world: 144\n",
      "hello world: 145\n",
      "hello world: 146\n",
      "hello world: 147\n",
      "hello world: 148\n",
      "hello world: 149\n",
      "\n"
     ]
    }
   ],
   "source": [
    "g = open('newfile.txt', 'r')\n",
    "print (g.read())\n",
    "g.close()"
   ]
  },
  {
   "cell_type": "code",
   "execution_count": 39,
   "metadata": {},
   "outputs": [],
   "source": [
    "import os\n",
    "os.remove('newfile.txt')"
   ]
  },
  {
   "cell_type": "code",
   "execution_count": null,
   "metadata": {},
   "outputs": [],
   "source": []
  }
 ],
 "metadata": {
  "kernelspec": {
   "display_name": "Python 3",
   "language": "python",
   "name": "python3"
  },
  "language_info": {
   "codemirror_mode": {
    "name": "ipython",
    "version": 3
   },
   "file_extension": ".py",
   "mimetype": "text/x-python",
   "name": "python",
   "nbconvert_exporter": "python",
   "pygments_lexer": "ipython3",
   "version": "3.6.4"
  }
 },
 "nbformat": 4,
 "nbformat_minor": 2
}
